{
 "cells": [
  {
   "cell_type": "code",
   "execution_count": 9,
   "metadata": {
    "collapsed": true
   },
   "outputs": [],
   "source": [
    "import os\n",
    "import uuid\n",
    "import shutil"
   ]
  },
  {
   "cell_type": "code",
   "execution_count": null,
   "metadata": {
    "collapsed": true
   },
   "outputs": [],
   "source": []
  },
  {
   "cell_type": "code",
   "execution_count": 10,
   "metadata": {
    "collapsed": true
   },
   "outputs": [],
   "source": [
    "RAW_DATA_DIR = \"plate_images\"\n",
    "TARGET_DATA_DIR = \"plate_digit_recog\"\n",
    "dataset_name = \"plate_digit\""
   ]
  },
  {
   "cell_type": "code",
   "execution_count": null,
   "metadata": {
    "collapsed": true
   },
   "outputs": [],
   "source": []
  },
  {
   "cell_type": "code",
   "execution_count": 11,
   "metadata": {
    "collapsed": true
   },
   "outputs": [],
   "source": [
    "if os.path.isdir(TARGET_DATA_DIR):\n",
    "    shutil.rmtree(TARGET_DATA_DIR)\n",
    "os.mkdir(TARGET_DATA_DIR)"
   ]
  },
  {
   "cell_type": "code",
   "execution_count": 12,
   "metadata": {
    "collapsed": true
   },
   "outputs": [],
   "source": [
    "image_names = os.listdir(RAW_DATA_DIR)"
   ]
  },
  {
   "cell_type": "code",
   "execution_count": null,
   "metadata": {
    "collapsed": true
   },
   "outputs": [],
   "source": []
  },
  {
   "cell_type": "code",
   "execution_count": 13,
   "metadata": {
    "collapsed": true
   },
   "outputs": [],
   "source": [
    "for image_name in image_names:\n",
    "    image_path = os.path.join(RAW_DATA_DIR, image_name)\n",
    "    ext = image_name.split('.')[1].lower()\n",
    "    label = image_name.split('.')[0]\n",
    "    new_name = str(uuid.uuid4())\n",
    "    new_image_path = os.path.join(TARGET_DATA_DIR, new_name + \".\" + ext)\n",
    "    new_label_path = os.path.join(TARGET_DATA_DIR, new_name + \".txt\")\n",
    "    with open(new_label_path, 'w') as f:\n",
    "        f.write(label.upper()[1:])\n",
    "    shutil.copy(image_path, new_image_path)"
   ]
  },
  {
   "cell_type": "code",
   "execution_count": null,
   "metadata": {
    "collapsed": true
   },
   "outputs": [],
   "source": []
  },
  {
   "cell_type": "code",
   "execution_count": 14,
   "metadata": {
    "collapsed": false
   },
   "outputs": [
    {
     "name": "stdout",
     "output_type": "stream",
     "text": [
      "Number of records: 1165\n"
     ]
    }
   ],
   "source": [
    "records = []\n",
    "files = os.listdir(TARGET_DATA_DIR)\n",
    "for file in files:\n",
    "    if file.endswith(\"txt\"):\n",
    "        continue\n",
    "    name = file + '\\n'\n",
    "    records.append(os.path.join(TARGET_DATA_DIR, name))\n",
    "print(\"Number of records: \" + str(len(records)))"
   ]
  },
  {
   "cell_type": "code",
   "execution_count": null,
   "metadata": {
    "collapsed": true
   },
   "outputs": [],
   "source": []
  },
  {
   "cell_type": "code",
   "execution_count": 15,
   "metadata": {
    "collapsed": true
   },
   "outputs": [],
   "source": [
    "# split into training set and test set\n",
    "test_ratio = 0.1\n",
    "total_num = len(records)\n",
    "test_num = int(test_ratio * total_num)\n",
    "train_num = total_num - test_num\n",
    "train_records = records[0:train_num]\n",
    "test_records = records[train_num:]"
   ]
  },
  {
   "cell_type": "code",
   "execution_count": null,
   "metadata": {
    "collapsed": true
   },
   "outputs": [],
   "source": []
  },
  {
   "cell_type": "code",
   "execution_count": 16,
   "metadata": {
    "collapsed": true
   },
   "outputs": [],
   "source": [
    "# save to text file\n",
    "all_out_file = open(dataset_name + \"_all.txt\", \"w\")\n",
    "for record in records:\n",
    "    all_out_file.write(record)\n",
    "all_out_file.close()\n",
    "\n",
    "train_out_file = open(dataset_name + \"_train.txt\", \"w\")\n",
    "for record in train_records:\n",
    "    train_out_file.write(record)\n",
    "train_out_file.close()\n",
    "\n",
    "test_out_file = open(dataset_name + \"_test.txt\", \"w\")\n",
    "for record in test_records:\n",
    "    test_out_file.write(record)\n",
    "test_out_file.close()"
   ]
  }
 ],
 "metadata": {
  "kernelspec": {
   "display_name": "Python 3",
   "language": "python",
   "name": "python3"
  },
  "language_info": {
   "codemirror_mode": {
    "name": "ipython",
    "version": 3
   },
   "file_extension": ".py",
   "mimetype": "text/x-python",
   "name": "python",
   "nbconvert_exporter": "python",
   "pygments_lexer": "ipython3",
   "version": "3.5.2"
  }
 },
 "nbformat": 4,
 "nbformat_minor": 2
}
