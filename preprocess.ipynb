{
 "cells": [
  {
   "cell_type": "code",
   "execution_count": 8,
   "metadata": {
    "collapsed": true
   },
   "outputs": [],
   "source": [
    "import os\n",
    "from scipy import misc\n",
    "import json\n",
    "import shutil\n",
    "from matplotlib import pyplot as plt\n",
    "import numpy as np\n",
    "import numpy.ma as ma\n",
    "%matplotlib inline"
   ]
  },
  {
   "cell_type": "code",
   "execution_count": 9,
   "metadata": {
    "collapsed": true,
    "deletable": true,
    "editable": true
   },
   "outputs": [],
   "source": [
    "data_dir = \"text_english\"\n",
    "dataset_name = \"english\""
   ]
  },
  {
   "cell_type": "code",
   "execution_count": null,
   "metadata": {
    "collapsed": true
   },
   "outputs": [],
   "source": []
  },
  {
   "cell_type": "code",
   "execution_count": 10,
   "metadata": {
    "collapsed": false
   },
   "outputs": [
    {
     "name": "stdout",
     "output_type": "stream",
     "text": [
      "Number of records: 1186\n"
     ]
    }
   ],
   "source": [
    "records = []\n",
    "files = os.listdir(data_dir)\n",
    "for file in files:\n",
    "    if file.endswith(\"txt\"):\n",
    "        continue\n",
    "    name = file + '\\n'\n",
    "    records.append(os.path.join(data_dir, name))\n",
    "print(\"Number of records: \" + str(len(records)))"
   ]
  },
  {
   "cell_type": "code",
   "execution_count": null,
   "metadata": {
    "collapsed": true,
    "deletable": true,
    "editable": true
   },
   "outputs": [],
   "source": []
  },
  {
   "cell_type": "code",
   "execution_count": null,
   "metadata": {
    "collapsed": true,
    "deletable": true,
    "editable": true
   },
   "outputs": [],
   "source": []
  },
  {
   "cell_type": "code",
   "execution_count": 11,
   "metadata": {
    "collapsed": true,
    "deletable": true,
    "editable": true
   },
   "outputs": [],
   "source": [
    "# split into training set and test set\n",
    "test_ratio = 0.1\n",
    "total_num = len(records)\n",
    "test_num = int(test_ratio * total_num)\n",
    "train_num = total_num - test_num\n",
    "train_records = records[0:train_num]\n",
    "test_records = records[train_num:]"
   ]
  },
  {
   "cell_type": "code",
   "execution_count": 12,
   "metadata": {
    "collapsed": false,
    "deletable": true,
    "editable": true
   },
   "outputs": [],
   "source": [
    "# save to text file\n",
    "all_out_file = open(dataset_name + \"_all.txt\", \"w\")\n",
    "for record in records:\n",
    "    all_out_file.write(record)\n",
    "all_out_file.close()\n",
    "\n",
    "train_out_file = open(dataset_name + \"_train.txt\", \"w\")\n",
    "for record in train_records:\n",
    "    train_out_file.write(record)\n",
    "train_out_file.close()\n",
    "\n",
    "test_out_file = open(dataset_name + \"_test.txt\", \"w\")\n",
    "for record in test_records:\n",
    "    test_out_file.write(record)\n",
    "test_out_file.close()"
   ]
  },
  {
   "cell_type": "code",
   "execution_count": null,
   "metadata": {
    "collapsed": true,
    "deletable": true,
    "editable": true
   },
   "outputs": [],
   "source": []
  },
  {
   "cell_type": "code",
   "execution_count": null,
   "metadata": {
    "collapsed": true,
    "deletable": true,
    "editable": true
   },
   "outputs": [],
   "source": []
  }
 ],
 "metadata": {
  "kernelspec": {
   "display_name": "Python 3",
   "language": "python",
   "name": "python3"
  },
  "language_info": {
   "codemirror_mode": {
    "name": "ipython",
    "version": 3
   },
   "file_extension": ".py",
   "mimetype": "text/x-python",
   "name": "python",
   "nbconvert_exporter": "python",
   "pygments_lexer": "ipython3",
   "version": "3.4.3"
  }
 },
 "nbformat": 4,
 "nbformat_minor": 1
}
